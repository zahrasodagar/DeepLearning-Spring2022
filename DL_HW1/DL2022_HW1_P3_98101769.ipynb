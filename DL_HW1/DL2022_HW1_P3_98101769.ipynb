{
  "cells": [
    {
      "cell_type": "markdown",
      "metadata": {
        "deletable": false,
        "editable": false,
        "heading_collapsed": true,
        "run_control": {
          "frozen": true
        },
        "id": "OMnbeah5cE5U"
      },
      "source": [
        "# Deep Learning"
      ]
    },
    {
      "cell_type": "markdown",
      "metadata": {
        "deletable": false,
        "editable": false,
        "heading_collapsed": true,
        "hidden": true,
        "run_control": {
          "frozen": true
        },
        "id": "YaBC7u8vcE5f"
      },
      "source": [
        "## HW1- Problem 3 - Regression (100 pts)"
      ]
    },
    {
      "cell_type": "markdown",
      "metadata": {
        "heading_collapsed": true,
        "hidden": true,
        "id": "nDFjxbovcE5g"
      },
      "source": [
        "### Please fill this part\n",
        "\n",
        "\n",
        "1.   Full Name: Zahra sodagar\n",
        "2.   Student Number: 98101769\n",
        "\n",
        "\n",
        "*You are just allowded to change those parts that start with \"TO DO\". Please do not change other parts.*\n",
        "\n",
        "*It is highly recommended to read each codeline carefully and try to understand what it exactly does. Best of luck and have fun!*"
      ]
    },
    {
      "cell_type": "code",
      "execution_count": 1,
      "metadata": {
        "hidden": true,
        "id": "RfZxPm0KcE5j"
      },
      "outputs": [],
      "source": [
        "# You are not allowed to import other packages.\n",
        "\n",
        "import numpy as np\n",
        "import pandas as pd\n",
        "\n",
        "from matplotlib import pyplot as plt\n",
        "from sklearn.metrics import mean_squared_error"
      ]
    },
    {
      "cell_type": "markdown",
      "metadata": {
        "deletable": false,
        "editable": false,
        "heading_collapsed": true,
        "hidden": true,
        "run_control": {
          "frozen": true
        },
        "id": "-stMsXjPcE5o"
      },
      "source": [
        "### Part1:\n",
        "Consider the dataset which has been given to you. Split the dataset into the `training dataset` and `test dataset`. You can use `80%` of the data for training and the rest for testing."
      ]
    },
    {
      "cell_type": "code",
      "execution_count": 2,
      "metadata": {
        "hidden": true,
        "id": "8D0kEgcwcE5p"
      },
      "outputs": [],
      "source": [
        "dataset = pd.read_csv(\"data01.csv\")\n",
        "\n",
        "# implement the split part\n",
        "# name them: x_train, x_test, y_train, y_test\n",
        "\n",
        "train_dataset = dataset.sample(frac=0.8, replace=False)\n",
        "test_dataset = dataset.drop(train_dataset.index)\n",
        "\n",
        "x_train, y_train = train_dataset.to_numpy()[:, 1].reshape(-1, 1), train_dataset.to_numpy()[:, 2].reshape(-1, 1)\n",
        "x_test, y_test = test_dataset.to_numpy()[:, 1].reshape(-1, 1), test_dataset.to_numpy()[:, 2].reshape(-1, 1)\n"
      ]
    },
    {
      "cell_type": "markdown",
      "metadata": {
        "deletable": false,
        "editable": false,
        "heading_collapsed": true,
        "hidden": true,
        "run_control": {
          "frozen": true
        },
        "id": "NBNAj4MxcE5p"
      },
      "source": [
        "### Part2:\n",
        "Assume there is simple linear relationship between X and Y. Train a simple `Linear Regression` on the training dataset and report its accuracy on the training and testing dataset, separately."
      ]
    },
    {
      "cell_type": "code",
      "execution_count": 3,
      "metadata": {
        "hidden": true,
        "id": "YWbdupf5cE5q",
        "colab": {
          "base_uri": "https://localhost:8080/"
        },
        "outputId": "5b341b61-5332-4c87-c9a9-9635daa74fd7"
      },
      "outputs": [
        {
          "output_type": "stream",
          "name": "stdout",
          "text": [
            "the slope is -1.0206 and the bias is 0.8298\n"
          ]
        }
      ],
      "source": [
        "# here you can implement via sgd or use least square solution. we suggest the second one inv(A^T A) * A^T y.\n",
        "# consider m as the returned line --> m[0] = the slope , m[1] = y intercept, also don't forget to use numpy for calculating m.\n",
        "\n",
        "A = np.hstack((x_train, np.ones_like(x_train)))\n",
        "m = (np.linalg.inv(A.T @ A) @ A.T @ y_train).ravel()\n",
        "print(f'the slope is {m[0]:.4f} and the bias is {m[1]:.4f}')"
      ]
    },
    {
      "cell_type": "code",
      "execution_count": 4,
      "metadata": {
        "hidden": true,
        "id": "YN6_UxhvcE5r",
        "colab": {
          "base_uri": "https://localhost:8080/"
        },
        "outputId": "8e8b7099-ab68-4eec-a180-fe148107e86b"
      },
      "outputs": [
        {
          "output_type": "stream",
          "name": "stdout",
          "text": [
            "MSE train error: 0.33174423138338804\n",
            "MSE test error: 0.32634955407362926\n"
          ]
        }
      ],
      "source": [
        "predicted_train_y = m[0] * x_train + m[1]\n",
        "predicted_test_y = m[0] * x_test + m[1]\n",
        "\n",
        "train_error = ((y_train - predicted_train_y) ** 2).mean()\n",
        "test_error = ((y_test - predicted_test_y) ** 2).mean()\n",
        "\n",
        "print(f\"MSE train error: {train_error}\\nMSE test error: {test_error}\")"
      ]
    },
    {
      "cell_type": "markdown",
      "metadata": {
        "deletable": false,
        "editable": false,
        "heading_collapsed": true,
        "hidden": true,
        "run_control": {
          "frozen": true
        },
        "id": "rdIiXt44cE5s"
      },
      "source": [
        "### Part3:\n",
        "Draw the line you've found in the last part, on train and test points (each separately)."
      ]
    },
    {
      "cell_type": "code",
      "execution_count": 5,
      "metadata": {
        "hidden": true,
        "id": "Pu-Ak8ibcE5t",
        "colab": {
          "base_uri": "https://localhost:8080/",
          "height": 281
        },
        "outputId": "99dad028-c101-4153-e333-0e915a2e3f33"
      },
      "outputs": [
        {
          "output_type": "display_data",
          "data": {
            "text/plain": [
              "<Figure size 432x288 with 1 Axes>"
            ],
            "image/png": "[encoded data removed]"
          },
          "metadata": {
            "needs_background": "light"
          }
        }
      ],
      "source": [
        "plt.scatter(x_train, y_train)\n",
        "plt.scatter(x_train, m[0]*x_train + m[1], s=1)\n",
        "plt.title(\"Train dataset\")\n",
        "plt.show()"
      ]
    },
    {
      "cell_type": "code",
      "execution_count": 6,
      "metadata": {
        "hidden": true,
        "id": "Xbkto0N1cE5v",
        "colab": {
          "base_uri": "https://localhost:8080/",
          "height": 281
        },
        "outputId": "e838a817-c658-4175-ed84-c11e59c7a818"
      },
      "outputs": [
        {
          "output_type": "display_data",
          "data": {
            "text/plain": [
              "<Figure size 432x288 with 1 Axes>"
            ],
            "image/png": "[encoded data removed]"
          },
          "metadata": {
            "needs_background": "light"
          }
        }
      ],
      "source": [
        "plt.scatter(x_test, y_test)\n",
        "plt.scatter(x_test, m[0]*x_test + m[1], s=1)\n",
        "plt.title(\"Test dataset\")\n",
        "plt.show()"
      ]
    },
    {
      "cell_type": "markdown",
      "metadata": {
        "deletable": false,
        "editable": false,
        "heading_collapsed": true,
        "hidden": true,
        "run_control": {
          "frozen": true
        },
        "id": "lJbknktAcE5x"
      },
      "source": [
        "### Part4:\n",
        "Were the reported accuracies acceptable? \n",
        "\n",
        "Given the data and the linear regressor we have, the MSE is not too high. The model is not following the pattern of the data so we can use models with higher complexity to get a higher accuracy.\n",
        "\n",
        "What about the line you drew in the last part?\n",
        "\n",
        "The line is showing the trend of the pattern perfectly (as a line) but it is not complex enough to model the data and the actual value is usually not very close.\n",
        "\n",
        "Was it appropriate for the dataset?\n",
        "\n",
        "No, because the data looks like a combination of a line with a sinusoid function and a line can not follow these curves.\n",
        "<br><br/>\n",
        "Explain what are the main problems here.\n",
        "\n"
      ]
    },
    {
      "cell_type": "markdown",
      "metadata": {
        "hidden": true,
        "id": "e2M68MJ3cE5y"
      },
      "source": [
        "The model we are using is not complex enough so it is underfitted and the MSE could be reduced by using a slightly more complex model."
      ]
    },
    {
      "cell_type": "markdown",
      "metadata": {
        "deletable": false,
        "editable": false,
        "heading_collapsed": true,
        "hidden": true,
        "run_control": {
          "frozen": true
        },
        "id": "ao8CLgMwcE5z"
      },
      "source": [
        "### Part5:\n",
        "Now, consider the `Locally Weighted Linear Regression` approach for this problem. Do expect it performs better than simple `Linear Regression` for this dataset?"
      ]
    },
    {
      "cell_type": "markdown",
      "metadata": {
        "hidden": true,
        "id": "pKpBYJbtcE51"
      },
      "source": [
        "In the locally weighted method, we use the closer datapoints to estimate the line. This helps us to follow the local pattern closely and helps us not to focus on capturing the whole pattern with a weak model and, so we can reduce the MSE using the same weak model and underfit less. This method could be a bit noisy if you are not using enough training datapoints."
      ]
    },
    {
      "cell_type": "markdown",
      "metadata": {
        "deletable": false,
        "editable": false,
        "heading_collapsed": true,
        "hidden": true,
        "run_control": {
          "frozen": true
        },
        "id": "z2pq1JiBcE53"
      },
      "source": [
        "### Part6:\n",
        "Here, we want to implement the `suggested model`. You can implement any weight function you want, the below implementation is just a sample:\n",
        "<br><br/>\n",
        "\\begin{equation*}\n",
        "    w^{(i)}=exp\\left(-\\frac{(\\mathbf x^{(i)}-\\mathbf x)^\\top(\\mathbf x^{(i)}-\\mathbf x)}{2\\tau^2}\\right)\n",
        "\\end{equation*}"
      ]
    },
    {
      "cell_type": "code",
      "execution_count": 7,
      "metadata": {
        "hidden": true,
        "id": "FCfw1KSfcE54"
      },
      "outputs": [],
      "source": [
        "def get_weight_matrix(the_query_point, train_dataset, hyperparameter):\n",
        "    l = train_dataset.shape[0]\n",
        "    W = np.mat(np.eye(l))\n",
        "    for i, xi in enumerate(train_dataset):\n",
        "        query = np.array([the_query_point[0,0].sum(), 1])\n",
        "        W[i, i] = np.exp(-np.dot(xi - query, xi - query) / (2 * hyperparameter ** 2))\n",
        "    return W"
      ]
    },
    {
      "cell_type": "markdown",
      "metadata": {
        "deletable": false,
        "editable": false,
        "hidden": true,
        "run_control": {
          "frozen": true
        },
        "id": "P6nr2jZOcE55"
      },
      "source": [
        "Now implement the `closed form solution` based on the following formula:\n",
        "<br><br/>\n",
        "\\begin{equation*}\n",
        "    \\boldsymbol\\theta=(X^\\top WX)^{-1}(X^\\top WY)\n",
        "\\end{equation*}\n",
        "<br><br/>\n",
        "Of course if you use another form, implement your own."
      ]
    },
    {
      "cell_type": "code",
      "source": [
        "import warnings\n",
        "warnings.filterwarnings(\"ignore\")\n",
        "\n",
        "def predict(train_X, train_Y, query_x, hyperparameter):\n",
        "    l = train_dataset.shape[0]\n",
        "    X = np.hstack((train_X, np.ones((l, 1))))\n",
        "    qx = np.mat([query_x, 1])\n",
        "    W = get_weight_matrix(qx, X, hyperparameter)\n",
        "\n",
        "    theta = np.linalg.inv(X.T @ W @ X) @ (X.T @ W @ train_Y)\n",
        "    return float(np.dot(qx, theta)) "
      ],
      "metadata": {
        "id": "OcmVs-gSn3Gd"
      },
      "execution_count": 8,
      "outputs": []
    },
    {
      "cell_type": "markdown",
      "metadata": {
        "deletable": false,
        "editable": false,
        "heading_collapsed": true,
        "hidden": true,
        "run_control": {
          "frozen": true
        },
        "id": "Vp-kd8hJcE56"
      },
      "source": [
        "### Part7:\n",
        "Report accuracy of this model on the test dataset. Also, draw a plot that contains (x_test, y_test) pairs and (x_test, predicted_y) pairs that differ in color."
      ]
    },
    {
      "cell_type": "code",
      "execution_count": 9,
      "metadata": {
        "hidden": true,
        "id": "5Fb7GInlcE57",
        "colab": {
          "base_uri": "https://localhost:8080/"
        },
        "outputId": "ecf81407-6b6b-4676-fb98-c726add93447"
      },
      "outputs": [
        {
          "output_type": "stream",
          "name": "stdout",
          "text": [
            "MSE test error: 0.09863928668764238\n"
          ]
        }
      ],
      "source": [
        "predicted_test = [predict(x_train, y_train, query, hyperparameter=0.1) for query in x_test]\n",
        "error = ((y_test.ravel() - np.array(predicted_test)) ** 2).mean()\n",
        "print(f\"MSE test error: {error}\")"
      ]
    },
    {
      "cell_type": "code",
      "execution_count": 10,
      "metadata": {
        "hidden": true,
        "id": "Mkdu7HTFcE59",
        "colab": {
          "base_uri": "https://localhost:8080/",
          "height": 282
        },
        "outputId": "2472e719-e0c2-48a3-e37a-d0f0e6e7c76e"
      },
      "outputs": [
        {
          "output_type": "execute_result",
          "data": {
            "text/plain": [
              "<matplotlib.collections.PathCollection at 0x7f730130f7d0>"
            ]
          },
          "metadata": {},
          "execution_count": 10
        },
        {
          "output_type": "display_data",
          "data": {
            "text/plain": [
              "<Figure size 432x288 with 1 Axes>"
            ],
            "image/png": "[encoded data removed]"
          },
          "metadata": {
            "needs_background": "light"
          }
        }
      ],
      "source": [
        "plt.scatter(x_test, y_test, c=\"blue\")\n",
        "plt.scatter(x_test, predicted_test, c=\"yellow\")"
      ]
    },
    {
      "cell_type": "markdown",
      "metadata": {
        "deletable": false,
        "editable": false,
        "heading_collapsed": true,
        "hidden": true,
        "run_control": {
          "frozen": true
        },
        "id": "Y3-qQg79cE5-"
      },
      "source": [
        "### Part8:\n",
        "Is the performance of the new model better than the previous one? `Explain`."
      ]
    },
    {
      "cell_type": "markdown",
      "metadata": {
        "hidden": true,
        "id": "fFhxj-KEcE5-"
      },
      "source": [
        "\n",
        "Yes, it has reduced the MSE error and it is following the main pattern and its curves, but also has not overfitted the data."
      ]
    },
    {
      "cell_type": "markdown",
      "metadata": {
        "deletable": false,
        "editable": false,
        "heading_collapsed": true,
        "hidden": true,
        "run_control": {
          "frozen": true
        },
        "id": "eXuaA0uJcE5_"
      },
      "source": [
        "### Part9:\n",
        "Now, we want to consider the `KNN` approach for this problem; Do you think it will perform well? "
      ]
    },
    {
      "cell_type": "markdown",
      "metadata": {
        "hidden": true,
        "id": "KZVzGnEacE6A"
      },
      "source": [
        "Yes, it could perform well if you are using enough neighbours and it could capture the local pattern, but it could be noisy if k is too small (as a result of overfitting the local data).\n",
        "\n"
      ]
    },
    {
      "cell_type": "markdown",
      "metadata": {
        "deletable": false,
        "editable": false,
        "heading_collapsed": true,
        "hidden": true,
        "run_control": {
          "frozen": true
        },
        "id": "VQgLdj-zcE6C"
      },
      "source": [
        "### Part10:\n",
        "Implementing the `KNN model`."
      ]
    },
    {
      "cell_type": "code",
      "execution_count": 11,
      "metadata": {
        "hidden": true,
        "id": "3eYMM9WvcE6D"
      },
      "outputs": [],
      "source": [
        "class KNN:\n",
        "    def __init__(self, number_neighbours, X, Y):\n",
        "        self.k = number_neighbours\n",
        "        self.X = X\n",
        "        self.Y = Y\n",
        "\n",
        "    def distance(self, x1, x2):\n",
        "        distance = np.abs(x1 - x2) # implement the distance function\n",
        "        return distance\n",
        "\n",
        "    def return_nn_ids(self, x):\n",
        "        distances = [[self.distance(self.X[i], x), self.Y[i]] for i in range(self.X.shape[0])]\n",
        "        distances.sort(key=lambda d: d[0])\n",
        "        indices = [distances[i][1] for i in range(self.k)]\n",
        "        return indices\n",
        "\n",
        "    def predict(self, x):\n",
        "        neareest_indices = self.return_nn_ids(x)\n",
        "        predicted_y = sum(neareest_indices) / len(neareest_indices)\n",
        "        return predicted_y"
      ]
    },
    {
      "cell_type": "code",
      "execution_count": 12,
      "metadata": {
        "hidden": true,
        "id": "Nft-twxGcE6D"
      },
      "outputs": [],
      "source": [
        "def evaluation(k, x_train, y_train, x_test, y_test):\n",
        "    model = KNN(k, x_train, y_train)\n",
        "    predicted_y = [model.predict(x) for x in x_test]\n",
        "    error = ((y_test - predicted_y) ** 2).mean()\n",
        "    return error, predicted_y"
      ]
    },
    {
      "cell_type": "code",
      "source": [
        "for k in range(50):\n",
        "  k = k + 1\n",
        "  error_knn, predicted_y = evaluation(k, x_train, y_train, x_test, y_test)\n",
        "  print(f\"k = {k} -> MSE error of KNN for test dataset: {error_knn}\")"
      ],
      "metadata": {
        "colab": {
          "base_uri": "https://localhost:8080/"
        },
        "id": "NaRRPs4hYnco",
        "outputId": "6b7440f6-4205-4eea-b657-521e7c3e5bbb"
      },
      "execution_count": 15,
      "outputs": [
        {
          "output_type": "stream",
          "name": "stdout",
          "text": [
            "k = 1 -> MSE error of KNN for test dataset: 0.1809994837863324\n",
            "k = 2 -> MSE error of KNN for test dataset: 0.12525380496550909\n",
            "k = 3 -> MSE error of KNN for test dataset: 0.10246161396475469\n",
            "k = 4 -> MSE error of KNN for test dataset: 0.09293448962205535\n",
            "k = 5 -> MSE error of KNN for test dataset: 0.09425242792431815\n",
            "k = 6 -> MSE error of KNN for test dataset: 0.08968577637534902\n",
            "k = 7 -> MSE error of KNN for test dataset: 0.08968728692522739\n",
            "k = 8 -> MSE error of KNN for test dataset: 0.09240978834672058\n",
            "k = 9 -> MSE error of KNN for test dataset: 0.09215804337873601\n",
            "k = 10 -> MSE error of KNN for test dataset: 0.09032372074110022\n",
            "k = 11 -> MSE error of KNN for test dataset: 0.08924594928863085\n",
            "k = 12 -> MSE error of KNN for test dataset: 0.0898854950853493\n",
            "k = 13 -> MSE error of KNN for test dataset: 0.08999910307466924\n",
            "k = 14 -> MSE error of KNN for test dataset: 0.08890100762419242\n",
            "k = 15 -> MSE error of KNN for test dataset: 0.08998421416495737\n",
            "k = 16 -> MSE error of KNN for test dataset: 0.08997789501891149\n",
            "k = 17 -> MSE error of KNN for test dataset: 0.088636257612842\n",
            "k = 18 -> MSE error of KNN for test dataset: 0.08954847873257885\n",
            "k = 19 -> MSE error of KNN for test dataset: 0.09215824648081244\n",
            "k = 20 -> MSE error of KNN for test dataset: 0.09165583301889237\n",
            "k = 21 -> MSE error of KNN for test dataset: 0.09177166016045483\n",
            "k = 22 -> MSE error of KNN for test dataset: 0.09203862037266065\n",
            "k = 23 -> MSE error of KNN for test dataset: 0.09173982172714401\n",
            "k = 24 -> MSE error of KNN for test dataset: 0.09244822145248824\n",
            "k = 25 -> MSE error of KNN for test dataset: 0.09270153526612632\n",
            "k = 26 -> MSE error of KNN for test dataset: 0.09420231571598862\n",
            "k = 27 -> MSE error of KNN for test dataset: 0.09515787660431824\n",
            "k = 28 -> MSE error of KNN for test dataset: 0.09577676856834205\n",
            "k = 29 -> MSE error of KNN for test dataset: 0.09672411990866729\n",
            "k = 30 -> MSE error of KNN for test dataset: 0.09554764994600755\n",
            "k = 31 -> MSE error of KNN for test dataset: 0.09598621260359234\n",
            "k = 32 -> MSE error of KNN for test dataset: 0.09654563356947186\n",
            "k = 33 -> MSE error of KNN for test dataset: 0.09587732774941043\n",
            "k = 34 -> MSE error of KNN for test dataset: 0.09696904254081593\n",
            "k = 35 -> MSE error of KNN for test dataset: 0.09727990547954185\n",
            "k = 36 -> MSE error of KNN for test dataset: 0.09808975307062101\n",
            "k = 37 -> MSE error of KNN for test dataset: 0.09962223296736139\n",
            "k = 38 -> MSE error of KNN for test dataset: 0.09927221855418848\n",
            "k = 39 -> MSE error of KNN for test dataset: 0.09983234047043991\n",
            "k = 40 -> MSE error of KNN for test dataset: 0.1002945569766396\n",
            "k = 41 -> MSE error of KNN for test dataset: 0.10153770598133216\n",
            "k = 42 -> MSE error of KNN for test dataset: 0.10112627884490288\n",
            "k = 43 -> MSE error of KNN for test dataset: 0.10216345126892296\n",
            "k = 44 -> MSE error of KNN for test dataset: 0.10268206510368189\n",
            "k = 45 -> MSE error of KNN for test dataset: 0.10229175864038735\n",
            "k = 46 -> MSE error of KNN for test dataset: 0.1017441772620484\n",
            "k = 47 -> MSE error of KNN for test dataset: 0.10281274763032869\n",
            "k = 48 -> MSE error of KNN for test dataset: 0.10214471448561176\n",
            "k = 49 -> MSE error of KNN for test dataset: 0.10237417522427875\n",
            "k = 50 -> MSE error of KNN for test dataset: 0.1032734654265091\n"
          ]
        }
      ]
    },
    {
      "cell_type": "code",
      "execution_count": 16,
      "metadata": {
        "hidden": true,
        "id": "QPf3LNW-cE6D",
        "colab": {
          "base_uri": "https://localhost:8080/"
        },
        "outputId": "80796463-4404-463f-9049-d86606bc91a7"
      },
      "outputs": [
        {
          "output_type": "stream",
          "name": "stdout",
          "text": [
            "MSE error of KNN for test dataset: 0.088636257612842\n"
          ]
        }
      ],
      "source": [
        "k = 17\n",
        "error_knn, predicted_y = evaluation(k, x_train, y_train, x_test, y_test)\n",
        "print(f\"MSE error of KNN for test dataset: {error_knn}\")"
      ]
    },
    {
      "cell_type": "code",
      "execution_count": 17,
      "metadata": {
        "hidden": true,
        "id": "wCNb1H5HcE6E",
        "colab": {
          "base_uri": "https://localhost:8080/",
          "height": 282
        },
        "outputId": "e7b421d6-30c1-48ee-eef5-e7aa2f61fea5"
      },
      "outputs": [
        {
          "output_type": "execute_result",
          "data": {
            "text/plain": [
              "<matplotlib.collections.PathCollection at 0x7f72fcdd7bd0>"
            ]
          },
          "metadata": {},
          "execution_count": 17
        },
        {
          "output_type": "display_data",
          "data": {
            "text/plain": [
              "<Figure size 432x288 with 1 Axes>"
            ],
            "image/png": "[encoded data removed]"
          },
          "metadata": {
            "needs_background": "light"
          }
        }
      ],
      "source": [
        "plt.scatter(x_test, y_test, c=\"blue\")\n",
        "plt.scatter(x_test, predicted_y, c=\"yellow\")"
      ]
    },
    {
      "cell_type": "markdown",
      "metadata": {
        "deletable": false,
        "editable": false,
        "hidden": true,
        "run_control": {
          "frozen": true
        },
        "id": "UMVMGBnVcE6E"
      },
      "source": [
        "To find best K for this algorithm we suggest to use cross-validation.\n",
        "<br><br/>\n",
        "Did this model perform well (due to the plot and test accuracy)?"
      ]
    },
    {
      "cell_type": "markdown",
      "metadata": {
        "hidden": true,
        "id": "q5e2I5qBcE6F"
      },
      "source": [
        "Yes, it has the lowest MSE, also it is following the pattern closely and yet not overfitting it. It also has the least training time and you only need to compute the value at test time."
      ]
    }
  ],
  "metadata": {
    "kernelspec": {
      "display_name": "Python 3.7.4 64-bit",
      "language": "python",
      "name": "python3"
    },
    "language_info": {
      "codemirror_mode": {
        "name": "ipython",
        "version": 3
      },
      "file_extension": ".py",
      "mimetype": "text/x-python",
      "name": "python",
      "nbconvert_exporter": "python",
      "pygments_lexer": "ipython3",
      "version": "3.7.4"
    },
    "toc": {
      "base_numbering": 1,
      "nav_menu": {},
      "number_sections": true,
      "sideBar": true,
      "skip_h1_title": false,
      "title_cell": "Table of Contents",
      "title_sidebar": "Contents",
      "toc_cell": false,
      "toc_position": {},
      "toc_section_display": true,
      "toc_window_display": false
    },
    "varInspector": {
      "cols": {
        "lenName": 16,
        "lenType": 16,
        "lenVar": 40
      },
      "kernels_config": {
        "python": {
          "delete_cmd_postfix": "",
          "delete_cmd_prefix": "del ",
          "library": "var_list.py",
          "varRefreshCmd": "print(var_dic_list())"
        },
        "r": {
          "delete_cmd_postfix": ") ",
          "delete_cmd_prefix": "rm(",
          "library": "var_list.r",
          "varRefreshCmd": "cat(var_dic_list()) "
        }
      },
      "types_to_exclude": [
        "module",
        "function",
        "builtin_function_or_method",
        "instance",
        "_Feature"
      ],
      "window_display": false
    },
    "vscode": {
      "interpreter": {
        "hash": "aee8b7b246df8f9039afb4144a1f6fd8d2ca17a180786b69acc140d282b71a49"
      }
    },
    "colab": {
      "provenance": []
    }
  },
  "nbformat": 4,
  "nbformat_minor": 0
}